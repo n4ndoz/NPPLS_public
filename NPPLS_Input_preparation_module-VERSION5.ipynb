{
 "cells": [
  {
   "cell_type": "markdown",
   "metadata": {},
   "source": [
    "# Dihedral Angle Calculator"
   ]
  },
  {
   "cell_type": "markdown",
   "metadata": {},
   "source": [
    "This notebook comprehends all the steps necessary to parse the inputs from the ProteiNet dataset (link) and calculate it's dihedral angles. This is a work in progress and much of what is present here will be changed within the next months. For instance this block only loads a single casp record. To execute it, follow the steps below."
   ]
  },
  {
   "cell_type": "markdown",
   "metadata": {},
   "source": [
    "#### Installation of Libraries\n",
    "\n",
    "This is being run by a docker container, so pip execution capability could be broken outside this container.\n",
    "Eventhough this script could be run on whatever computer that has the requirements met (Tensorflow 1.15 CUDA), be careful when running outside a container. Since I could not verify compatibility with other systems.\n",
    "\n",
    "##### Image ran: tensorflow/tensorflow:1.15.0-gpu-py3-jupyter\n",
    "docker pull tensorflow/tensorflow:1.15.0-gpu-py3-jupyter\n",
    "\n",
    "To run the container, one could also make an alias, as so:\n",
    "\n",
    "alias docker_tf='docker run -v /LOCAL/VOLUME/:/tf/CONTAINER_VOLUME -p 8888:8888 --rm --runtime=nvidia -it --rm tensorflow/tensorflow:1.15.0-gpu-py3-jupyter'"
   ]
  },
  {
   "cell_type": "code",
   "execution_count": 1,
   "metadata": {},
   "outputs": [
    {
     "name": "stdout",
     "output_type": "stream",
     "text": [
      "Trying to install Package: scikit-learn==0.20.0\n",
      "Trying to install Package: tqdm\n",
      "Trying to install Package: scipy\n",
      "Trying to install Package: keras\n",
      "Trying to install Package: seaborn\n",
      "Trying to install Package: regex\n",
      "Trying to install Package: biopython\n",
      "Trying to install Package: mmtk\n"
     ]
    }
   ],
   "source": [
    "import subprocess\n",
    "import sys\n",
    "import os\n",
    "from os import listdir\n",
    "import numpy as np\n",
    "%matplotlib inline\n",
    "import matplotlib.pyplot as plt\n",
    "\n",
    "# Function for installation of libraries via pip\n",
    "def install_pkg(package):\n",
    "    subprocess.call([sys.executable, \"-m\", \"pip\", \"install\", package])\n",
    "\n",
    "pkgs = ['scikit-learn==0.20.0','tqdm','scipy','keras','seaborn','regex','biopython','mmtk']\n",
    "\n",
    "for package in pkgs:\n",
    "    try:\n",
    "        import package\n",
    "    except ImportError:\n",
    "        print('Trying to install Package: {}'.format(package))\n",
    "        install_pkg(package)\n",
    "\n",
    "# Import sub-block\n",
    "# Takes care of already installed libraries on the container\n",
    "import tensorflow as tf\n",
    "from sklearn.datasets import make_blobs\n",
    "from tqdm import tqdm_notebook as tqdm\n",
    "import numpy as np\n",
    "from Utils import Utils as utils"
   ]
  },
  {
   "cell_type": "code",
   "execution_count": 16,
   "metadata": {},
   "outputs": [
    {
     "name": "stdout",
     "output_type": "stream",
     "text": [
      "pkl\n",
      "X_1 | format: pkl | 1086.197 MB\n",
      "pkl\n",
      "X_teste | format: pkl | 23.617 MB\n",
      "npy\n",
      "X_latest | format: npy | 1086.197 MB\n",
      "pkl\n",
      "angles_20191211225217 | format: pkl | 61.011 MB\n",
      "pkl\n",
      "contact_dist_batch | format: pkl | 724.635 MB\n",
      "pkl\n",
      "reads_most_recent | format: pkl | 313.680 MB\n",
      "pkl\n",
      "angles_20191212050201 | format: pkl | 61.011 MB\n",
      "npy\n",
      "Y_latest | format: npy | 47.226 MB\n",
      "pkl\n",
      "X_latest | format: pkl | 0.000 MB\n",
      "pkl\n",
      "sorted_angles_20191212050201 | format: pkl | 40.676 MB\n",
      "pkl\n",
      "X_2 | format: pkl | 1086.197 MB\n",
      "pkl\n",
      "angle_logits1 | format: pkl | 118.065 MB\n",
      "pkl\n",
      "y_2 | format: pkl | 47.226 MB\n",
      "pkl\n",
      "angles_fixed_TESTE | format: pkl | 0.305 MB\n",
      "pkl\n",
      "angles_20191212182230 | format: pkl | 61.011 MB\n",
      "pkl\n",
      "clusters_total | format: pkl | 0.003 MB\n",
      "pkl\n",
      "desc_dict | format: pkl | 0.002 MB\n",
      "pkl\n",
      "y_1 | format: pkl | 47.226 MB\n",
      "pkl\n",
      "y_reduzido | format: pkl | 1.526 MB\n",
      "pkl\n",
      "reads_teste | format: pkl | 665.107 MB\n",
      "pkl\n",
      "masks | format: pkl | 23.613 MB\n",
      "pkl\n",
      "sorted_angles_20191211225217 | format: pkl | 40.676 MB\n",
      "pkl\n",
      "angles_fixed_20191211225217 | format: pkl | 20.337 MB\n",
      "pkl\n",
      "X_reduzido | format: pkl | 35.095 MB\n",
      "pkl\n",
      "clusters_by_aa | format: pkl | 0.053 MB\n",
      "pkl\n",
      "sorted_angles_final_20191212182230 | format: pkl | 40.676 MB\n",
      "pkl\n",
      "IDs_latest | format: pkl | 0.000 MB\n",
      "pkl\n",
      "ang_2crb | format: pkl | 0.002 MB\n"
     ]
    }
   ],
   "source": [
    "current = os.getcwd()\n",
    "utils.scan_obj(current+'/obj/')"
   ]
  },
  {
   "cell_type": "code",
   "execution_count": null,
   "metadata": {
    "scrolled": false
   },
   "outputs": [],
   "source": [
    "import datagen_v002 as data_prep"
   ]
  },
  {
   "cell_type": "code",
   "execution_count": null,
   "metadata": {},
   "outputs": [],
   "source": []
  },
  {
   "cell_type": "code",
   "execution_count": null,
   "metadata": {},
   "outputs": [],
   "source": [
    "data_prep = data_prep.Data_Prep_Pipeline(input_file='/tf/fernando/storage/casp7_txt/training_50')"
   ]
  },
  {
   "cell_type": "code",
   "execution_count": null,
   "metadata": {},
   "outputs": [],
   "source": [
    "data_prep.make_batch()"
   ]
  },
  {
   "cell_type": "code",
   "execution_count": null,
   "metadata": {},
   "outputs": [],
   "source": [
    "tf.test.is_gpu_available()"
   ]
  },
  {
   "cell_type": "code",
   "execution_count": null,
   "metadata": {},
   "outputs": [],
   "source": [
    "\n",
    "utils.scan_obj(current+'/obj/')"
   ]
  }
 ],
 "metadata": {
  "kernelspec": {
   "display_name": "Python 3",
   "language": "python",
   "name": "python3"
  },
  "language_info": {
   "codemirror_mode": {
    "name": "ipython",
    "version": 3
   },
   "file_extension": ".py",
   "mimetype": "text/x-python",
   "name": "python",
   "nbconvert_exporter": "python",
   "pygments_lexer": "ipython3",
   "version": "3.6.9"
  }
 },
 "nbformat": 4,
 "nbformat_minor": 2
}
